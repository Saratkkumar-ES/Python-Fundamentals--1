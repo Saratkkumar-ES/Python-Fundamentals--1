{
 "cells": [
  {
   "cell_type": "markdown",
   "id": "7edee630-cd0e-476e-8b69-451566af539e",
   "metadata": {},
   "source": [
    "# #Topic :List"
   ]
  },
  {
   "cell_type": "code",
   "execution_count": 5,
   "id": "49d48fe4-2389-4032-b9fd-e7a2b3e542c5",
   "metadata": {},
   "outputs": [
    {
     "name": "stdout",
     "output_type": "stream",
     "text": [
      "List of 5 random numbers: [48, 49, 100, 32, 76]\n"
     ]
    }
   ],
   "source": [
    "\n",
    "#  Create a list of 5 random numbers and print the list.\n",
    "import random\n",
    "\n",
    "\n",
    "random_numbers = [random.randint(1, 100) for _ in range(5)]\n",
    "\n",
    "# Print the list\n",
    "print(\"List of 5 random numbers:\", random_numbers)"
   ]
  },
  {
   "cell_type": "code",
   "execution_count": 9,
   "id": "957639ae-8f95-4f1d-a67a-180250b2e569",
   "metadata": {},
   "outputs": [
    {
     "name": "stdout",
     "output_type": "stream",
     "text": [
      "Updated List of random numbers: [48, 49, 100, 32, 76, 100, 22, 77, 12, 37, 42]\n"
     ]
    }
   ],
   "source": [
    "# insert 3 new random values into the list\n",
    "\n",
    "new_numbers = [random.randint(1, 100) for _ in range(3)]\n",
    "random_numbers.extend(new_numbers)\n",
    "\n",
    "# Print the list\n",
    "print(\"Updated List of random numbers:\", random_numbers)"
   ]
  },
  {
   "cell_type": "code",
   "execution_count": 11,
   "id": "1d538f53-2d78-4232-aae4-7575a114dc10",
   "metadata": {},
   "outputs": [
    {
     "name": "stdout",
     "output_type": "stream",
     "text": [
      "Each element in the updated list:\n",
      "48\n",
      "49\n",
      "100\n",
      "32\n",
      "76\n",
      "100\n",
      "22\n",
      "77\n",
      "12\n",
      "37\n",
      "42\n"
     ]
    }
   ],
   "source": [
    "# using a for loop to print each element in the list.\n",
    "\n",
    "print(\"Each element in the updated list:\")\n",
    "for number in random_numbers:\n",
    "    print(number)"
   ]
  },
  {
   "cell_type": "markdown",
   "id": "1e026aa8-a0ca-4194-9744-e4300ddc7c32",
   "metadata": {},
   "source": [
    "## Topic: Dictionary\n"
   ]
  },
  {
   "cell_type": "code",
   "execution_count": 16,
   "id": "2d66b543-f1dc-424a-91e0-5a0a54d1ad8c",
   "metadata": {},
   "outputs": [
    {
     "name": "stdout",
     "output_type": "stream",
     "text": [
      "{'name': 'John', 'age': 25, 'address': 'New York'}\n"
     ]
    }
   ],
   "source": [
    "# creating dictionary\n",
    "\n",
    "school = {\n",
    "    'name': 'John','age': 25,'address': 'New York'}\n",
    "# Print the dictionary\n",
    "print(school)"
   ]
  },
  {
   "cell_type": "code",
   "execution_count": 20,
   "id": "818b9428-c628-4f70-9c52-f628181f0f5e",
   "metadata": {},
   "outputs": [
    {
     "name": "stdout",
     "output_type": "stream",
     "text": [
      "{'name': 'John', 'age': 25, 'address': 'New York', 'phone': '1234567890'}\n"
     ]
    }
   ],
   "source": [
    "# Add a new key and value\n",
    "\n",
    "\n",
    "school['phone'] = '1234567890'\n",
    "print(school)"
   ]
  },
  {
   "cell_type": "markdown",
   "id": "0be82c80-21c7-45bd-98c9-d5b9c36f5e4e",
   "metadata": {},
   "source": [
    "## Topic: Set"
   ]
  },
  {
   "cell_type": "code",
   "execution_count": 24,
   "id": "a0331ee4-8f05-4677-978f-acac24f5c388",
   "metadata": {},
   "outputs": [
    {
     "name": "stdout",
     "output_type": "stream",
     "text": [
      "{1, 2, 3, 4, 5}\n"
     ]
    }
   ],
   "source": [
    "# Create a set with values 1, 2, 3, 4, and 5.\n",
    "dummy_set = {1, 2, 3, 4, 5}\n",
    "\n",
    "# Print the set\n",
    "print(dummy_set)"
   ]
  },
  {
   "cell_type": "code",
   "execution_count": 26,
   "id": "cfbcdc29-fb7c-428d-b9b5-f10d4fc88cef",
   "metadata": {},
   "outputs": [
    {
     "name": "stdout",
     "output_type": "stream",
     "text": [
      "{1, 2, 3, 4, 5, 6}\n"
     ]
    }
   ],
   "source": [
    "# Add the value 6 to the set\n",
    "\n",
    "dummy_set.add(6)\n",
    "\n",
    "# Print the updated set\n",
    "print(dummy_set)"
   ]
  },
  {
   "cell_type": "code",
   "execution_count": 28,
   "id": "7b673ed5-13f6-4cf6-b0ce-0749f93b8cc3",
   "metadata": {},
   "outputs": [
    {
     "name": "stdout",
     "output_type": "stream",
     "text": [
      "{1, 2, 4, 5, 6}\n"
     ]
    }
   ],
   "source": [
    "# Remove the value 3 from the set\n",
    "\n",
    "dummy_set.remove(3)\n",
    "\n",
    "# Print the updated set\n",
    "print(dummy_set)"
   ]
  },
  {
   "cell_type": "markdown",
   "id": "a30a4123-a733-4ab9-bae7-e73029a3763d",
   "metadata": {},
   "source": [
    "## Topic:Tuple"
   ]
  },
  {
   "cell_type": "code",
   "execution_count": 31,
   "id": "5568b06e-1f80-44b2-bb6a-90b4e1dacb42",
   "metadata": {},
   "outputs": [
    {
     "name": "stdout",
     "output_type": "stream",
     "text": [
      "(1, 2, 3, 4)\n"
     ]
    }
   ],
   "source": [
    "# creating a tuple\n",
    "\n",
    "dummy_tuple = (1, 2, 3, 4)\n",
    "\n",
    "# Print the tuple\n",
    "print(dummy_tuple)"
   ]
  },
  {
   "cell_type": "code",
   "execution_count": 33,
   "id": "151e8388-ca48-4e86-9ca0-e2de1bc277e0",
   "metadata": {},
   "outputs": [
    {
     "name": "stdout",
     "output_type": "stream",
     "text": [
      "length of the tuple is: 4\n"
     ]
    }
   ],
   "source": [
    "# Print the length of the tuple\n",
    "\n",
    "print(\"length of the tuple is:\", len(dummy_tuple))"
   ]
  }
 ],
 "metadata": {
  "kernelspec": {
   "display_name": "Python [conda env:base] *",
   "language": "python",
   "name": "conda-base-py"
  },
  "language_info": {
   "codemirror_mode": {
    "name": "ipython",
    "version": 3
   },
   "file_extension": ".py",
   "mimetype": "text/x-python",
   "name": "python",
   "nbconvert_exporter": "python",
   "pygments_lexer": "ipython3",
   "version": "3.12.7"
  }
 },
 "nbformat": 4,
 "nbformat_minor": 5
}
