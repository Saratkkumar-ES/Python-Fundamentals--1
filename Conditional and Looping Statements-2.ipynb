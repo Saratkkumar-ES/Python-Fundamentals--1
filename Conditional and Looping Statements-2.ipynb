{
 "cells": [
  {
   "cell_type": "code",
   "execution_count": 9,
   "id": "1c5d17c1-332f-4f16-b286-730499cd696b",
   "metadata": {},
   "outputs": [
    {
     "name": "stdin",
     "output_type": "stream",
     "text": [
      "Enter the first number:  18\n",
      "Enter the second number:  76\n",
      "Enter the third number:  58\n"
     ]
    },
    {
     "name": "stdout",
     "output_type": "stream",
     "text": [
      "The greatest number is: 76.0\n"
     ]
    }
   ],
   "source": [
    "# Exercise 4\n",
    "# Write a Python program to receive 3 numbers from the user and print the greatest among them.\n",
    "\n",
    "number_1 = float(input(\"Enter the first number: \"))\n",
    "number_2 = float(input(\"Enter the second number: \"))\n",
    "number_3 = float(input(\"Enter the third number: \"))\n",
    "\n",
    "        # to find the greatest number\n",
    "if number_1 >= number_2 and number_1 >= number_3:\n",
    "                 greatest = number_1\n",
    "elif number_2 >= number_1 and number_2 >= number_3:\n",
    "    greatest = number_2\n",
    "else:\n",
    "    greatest = number_3\n",
    "\n",
    "# To print\n",
    "print(f\"The greatest number is: {greatest}\")"
   ]
  },
  {
   "cell_type": "code",
   "execution_count": null,
   "id": "080d80f3-cc24-45c9-96fd-19d8b1e5a1ee",
   "metadata": {},
   "outputs": [],
   "source": [
    "# Exercise 5\n",
    "# Find the factorial of a given number using loops(note the number is received from the user)\n"
   ]
  },
  {
   "cell_type": "code",
   "execution_count": 17,
   "id": "a8705a90-f2fe-4758-be15-76b95c48e37a",
   "metadata": {},
   "outputs": [
    {
     "name": "stdin",
     "output_type": "stream",
     "text": [
      "Enter a number to calculate facorial: 4\n"
     ]
    },
    {
     "name": "stdout",
     "output_type": "stream",
     "text": [
      "The factorial of 4 is: 1\n",
      "The factorial of 4 is: 2\n",
      "The factorial of 4 is: 6\n",
      "The factorial of 4 is: 24\n"
     ]
    }
   ],
   "source": [
    "# input number for user\n",
    "num = int(input(\"Enter a number to calculate facorial:\"))\n",
    "\n",
    "factorial = 1\n",
    "\n",
    "if num < 0:\n",
    "    print(\"Factorial cannot be calculated.\")\n",
    "elif num == 0:\n",
    "    print(\"The factorial of 0 is 1.\")\n",
    "else:\n",
    "    for i in range( 1, num + 1):  # using a loop\n",
    "        factorial *= i\n",
    "        print(f\"The factorial of {num} is: {factorial}\")"
   ]
  },
  {
   "cell_type": "code",
   "execution_count": 19,
   "id": "b6dd4ca5-6848-45b3-949b-84a516556ac8",
   "metadata": {},
   "outputs": [
    {
     "name": "stdin",
     "output_type": "stream",
     "text": [
      "Enter a number to reverse: 50\n"
     ]
    },
    {
     "name": "stdout",
     "output_type": "stream",
     "text": [
      "The reversed number is: 5\n"
     ]
    }
   ],
   "source": [
    "# Exercise 6- Reverse a number using while loop\n",
    "\n",
    "num = int(input(\"Enter a number to reverse:\"))\n",
    "\n",
    "reversed_num = 0\n",
    "\n",
    "# Reverse the number using a while loop\n",
    "\n",
    "while num > 0:\n",
    "    digit = num % 10\n",
    "    reversed_num = reversed_num * 10 + digit\n",
    "    num = num // 10\n",
    "\n",
    "print(f\"The reversed number is: {reversed_num}\")"
   ]
  },
  {
   "cell_type": "code",
   "execution_count": 25,
   "id": "ce37a7e2-e669-402f-9abd-86a22b8fcdad",
   "metadata": {},
   "outputs": [
    {
     "name": "stdin",
     "output_type": "stream",
     "text": [
      "Enter a number to find its multiples:  10\n",
      "Enter the range limit:  100\n"
     ]
    },
    {
     "name": "stdout",
     "output_type": "stream",
     "text": [
      "Multiples of 10 up to 100:\n",
      "10 20 30 40 50 60 70 80 90 100 "
     ]
    }
   ],
   "source": [
    "# Exercise 7 Finding the multiples of a number using loop\n",
    "\n",
    "num = int(input(\"Enter a number to find its multiples: \"))\n",
    "limit = int(input(\"Enter the range limit: \"))\n",
    "\n",
    "\n",
    "# Printing the output\n",
    "print(f\"Multiples of {num} up to {limit}:\")\n",
    "for i in range(1, limit + 1):\n",
    "    if i % num == 0:\n",
    "        print(i, end=\" \")\n"
   ]
  },
  {
   "cell_type": "code",
   "execution_count": 27,
   "id": "80825319-2a67-499f-9ba9-3448324b10f6",
   "metadata": {},
   "outputs": [
    {
     "name": "stdin",
     "output_type": "stream",
     "text": [
      ": hello\n"
     ]
    },
    {
     "name": "stdout",
     "output_type": "stream",
     "text": [
      "hello\n"
     ]
    },
    {
     "name": "stdin",
     "output_type": "stream",
     "text": [
      ": finished\n"
     ]
    },
    {
     "name": "stdout",
     "output_type": "stream",
     "text": [
      "finished\n"
     ]
    },
    {
     "name": "stdin",
     "output_type": "stream",
     "text": [
      ": done\n"
     ]
    },
    {
     "name": "stdout",
     "output_type": "stream",
     "text": [
      "done\n"
     ]
    }
   ],
   "source": [
    "# Exercise 8- Write a program to print the inputted value as it is and break the loop if the value is 'done'.\n",
    "\n",
    "while True:\n",
    "    user_input = input(\":\")\n",
    "    print(user_input)\n",
    "\n",
    "# Break the loop if the input is 'done'\n",
    "    if user_input.lower() == 'done':\n",
    "        break\n"
   ]
  },
  {
   "cell_type": "code",
   "execution_count": 29,
   "id": "f6199999-26da-4b66-ac09-3bc747ded164",
   "metadata": {},
   "outputs": [
    {
     "name": "stdout",
     "output_type": "stream",
     "text": [
      "1\n",
      "2\n",
      "Fizz\n",
      "4\n",
      "Buzz\n",
      "Fizz\n",
      "7\n",
      "8\n",
      "Fizz\n",
      "Buzz\n"
     ]
    }
   ],
   "source": [
    "# Exercise 9- Write a program that prints the numbers from 1 to 10. But for multiples of three print \"Fizz\" instead of the number and for the multiple of five print \"Buzz\". For numbers which are multiples of both three and five print \"FizzBuzz\"\n",
    "\n",
    "\n",
    "# Loop through numbers from 1 to 10\n",
    "for num in range(1, 11):\n",
    "    # Check if the number is a multiple of both 3 and 5\n",
    "    if num % 3 == 0 and num % 5 == 0:\n",
    "        print(\"FizzBuzz\")\n",
    "\n",
    "    \n",
    "    # Check if the number is a multiple of 3\n",
    "    elif num % 3 == 0:\n",
    "        print(\"Fizz\")\n",
    "    # Check if the number is a multiple of 5\n",
    "    elif num % 5 == 0:\n",
    "        print(\"Buzz\")\n",
    "    # Print the number if it's not a multiple of 3 or 5\n",
    "    else:\n",
    "        print(num)"
   ]
  },
  {
   "cell_type": "code",
   "execution_count": 47,
   "id": "2c8a214f-30c2-48db-aecf-1c047b63b982",
   "metadata": {},
   "outputs": [
    {
     "name": "stdout",
     "output_type": "stream",
     "text": [
      "5 4 3 2 1 4 3 2 1 3 2 1 2 1 1 \n"
     ]
    }
   ],
   "source": [
    "# Exercise 10\n",
    "\n",
    "# outer loop for rows\n",
    "for i in range(5, 0, -1):\n",
    "    # Inner loop for columns\n",
    "    for j in range (i, 0, -1):\n",
    "        print(j, end=\" \")\n",
    "    # move to the next line after each row\n",
    "print()\n",
    "    "
   ]
  },
  {
   "cell_type": "code",
   "execution_count": null,
   "id": "f0ccc741-6e2b-49e1-b7d5-67c56de4efe4",
   "metadata": {},
   "outputs": [],
   "source": []
  }
 ],
 "metadata": {
  "kernelspec": {
   "display_name": "Python [conda env:base] *",
   "language": "python",
   "name": "conda-base-py"
  },
  "language_info": {
   "codemirror_mode": {
    "name": "ipython",
    "version": 3
   },
   "file_extension": ".py",
   "mimetype": "text/x-python",
   "name": "python",
   "nbconvert_exporter": "python",
   "pygments_lexer": "ipython3",
   "version": "3.12.7"
  }
 },
 "nbformat": 4,
 "nbformat_minor": 5
}
