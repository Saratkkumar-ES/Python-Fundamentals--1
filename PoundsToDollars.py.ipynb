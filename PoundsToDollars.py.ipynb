{
 "cells": [
  {
   "cell_type": "markdown",
   "id": "af94d5d4-e968-42b9-8f6e-8c079ebd29fd",
   "metadata": {},
   "source": [
    "## Pounds (£) to Dollar ($) Converter."
   ]
  },
  {
   "cell_type": "code",
   "execution_count": 1,
   "id": "ac08dd31-de77-4205-b2af-2817c16aa88e",
   "metadata": {},
   "outputs": [
    {
     "name": "stdin",
     "output_type": "stream",
     "text": [
      "Please enter amount in pounds:  500\n"
     ]
    },
    {
     "name": "stdout",
     "output_type": "stream",
     "text": [
      "£500.00 are $625.00\n"
     ]
    }
   ],
   "source": [
    "# Conversion rate\n",
    "conversion_rate = 1.25\n",
    "pounds = float(input(\"Please enter amount in pounds: \"))\n",
    "dollars = pounds * conversion_rate\n",
    "print(f\"£{pounds:.2f} are ${dollars:.2f}\")"
   ]
  }
 ],
 "metadata": {
  "kernelspec": {
   "display_name": "Python [conda env:base] *",
   "language": "python",
   "name": "conda-base-py"
  },
  "language_info": {
   "codemirror_mode": {
    "name": "ipython",
    "version": 3
   },
   "file_extension": ".py",
   "mimetype": "text/x-python",
   "name": "python",
   "nbconvert_exporter": "python",
   "pygments_lexer": "ipython3",
   "version": "3.12.7"
  }
 },
 "nbformat": 4,
 "nbformat_minor": 5
}
