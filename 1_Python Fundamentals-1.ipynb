{
 "cells": [
  {
   "cell_type": "markdown",
   "id": "83c91411-396d-42ce-9fbb-e564ea7158a0",
   "metadata": {},
   "source": [
    "## 1_Python Fundamentals"
   ]
  },
  {
   "cell_type": "code",
   "execution_count": 4,
   "id": "a430fcff-968b-49d9-b1c1-153de13816f8",
   "metadata": {},
   "outputs": [],
   "source": [
    "## Write Python code that prints your name, student number and email address\n",
    "name = \"Sarathkumar ES\"\n",
    "student_number = \"S0001\"\n",
    "email_address = \"sarathk9526@gmail.com\""
   ]
  },
  {
   "cell_type": "code",
   "execution_count": 6,
   "id": "7ee686cc-11ab-4e3c-95e3-9319e843a43c",
   "metadata": {},
   "outputs": [
    {
     "name": "stdout",
     "output_type": "stream",
     "text": [
      "Sarathkumar ES\n",
      "S0001\n",
      "sarathk9526@gmail.com\n"
     ]
    }
   ],
   "source": [
    "print(name)\n",
    "print(student_number)\n",
    "print( email_address)"
   ]
  },
  {
   "cell_type": "code",
   "execution_count": 30,
   "id": "88926fef-8501-4cd5-b193-84f4dda5e8c3",
   "metadata": {},
   "outputs": [
    {
     "name": "stdout",
     "output_type": "stream",
     "text": [
      "\tSarathkumar \n",
      "\tS0001\n",
      "\tsarathk9526@gmail.com\n"
     ]
    }
   ],
   "source": [
    "#  escape sequences to print your name, student number, and email address\n",
    "print(\"\\tSarathkumar \\n\\tS0001\\n\\tsarathk9526@gmail.com\")\n"
   ]
  },
  {
   "cell_type": "code",
   "execution_count": 46,
   "id": "53235649-4059-46d8-867b-dd60f817c480",
   "metadata": {},
   "outputs": [],
   "source": [
    "# Write Python code that add, subtract, multiply and divide the two numbers 14 and 7\n",
    "\n",
    "x = 14\n",
    "y = 7"
   ]
  },
  {
   "cell_type": "code",
   "execution_count": 48,
   "id": "855a11fe-a5b7-453f-9f39-460856957c8a",
   "metadata": {},
   "outputs": [
    {
     "name": "stdout",
     "output_type": "stream",
     "text": [
      "14+7= 21\n",
      "14-7= 7\n",
      "14*7= 98\n",
      "14/7= 2.0\n"
     ]
    }
   ],
   "source": [
    "addition = x + y\n",
    "subtraction = x - y\n",
    "multiplication = x * y\n",
    "division = x / y\n",
    "\n",
    "print(\"14+7=\", addition)\n",
    "print(\"14-7=\", subtraction)\n",
    "print(\"14*7=\", multiplication)\n",
    "print(\"14/7=\", division)"
   ]
  },
  {
   "cell_type": "code",
   "execution_count": 62,
   "id": "2b4cdeb1-ff67-4e85-875f-961ac17a4bca",
   "metadata": {},
   "outputs": [
    {
     "name": "stdout",
     "output_type": "stream",
     "text": [
      "1\n",
      "2\n",
      "3\n",
      "4\n",
      "5\n"
     ]
    }
   ],
   "source": [
    "# Python code that displays the numbers from 1 to 5 as stepsp\n",
    "print(\"1\\n2\\n3\\n4\\n5\")"
   ]
  },
  {
   "cell_type": "code",
   "execution_count": 64,
   "id": "b0611283-74bb-4d8d-bb4e-77149ad47b3f",
   "metadata": {},
   "outputs": [
    {
     "name": "stdout",
     "output_type": "stream",
     "text": [
      "SDX\"SDK\" stands for \"Software Development Kit\", whereas \n",
      "\"IDE\" stands for \"Integrated Development Environment\".\n"
     ]
    }
   ],
   "source": [
    "# Python code that outputs the following sentence (including the quotation marks and line break) to the screen:\n",
    "\n",
    "print('SDX\"SDK\" stands for \"Software Development Kit\", whereas \\n\"IDE\" stands for \"Integrated Development Environment\".')\n"
   ]
  },
  {
   "cell_type": "code",
   "execution_count": 66,
   "id": "e84221e7-6b14-4433-827f-7fd6b2dcf3dc",
   "metadata": {},
   "outputs": [
    {
     "name": "stdout",
     "output_type": "stream",
     "text": [
      "python is an \"awesome\" language.\n"
     ]
    }
   ],
   "source": [
    "print(\"python is an \\\"awesome\\\" language.\")"
   ]
  },
  {
   "cell_type": "code",
   "execution_count": 68,
   "id": "d8d63ff9-7a74-4363-80c8-b78c11dd933f",
   "metadata": {},
   "outputs": [
    {
     "name": "stdout",
     "output_type": "stream",
     "text": [
      "python\n",
      "\t2023\n"
     ]
    }
   ],
   "source": [
    "print(\"python\\n\\t2023\")"
   ]
  },
  {
   "cell_type": "code",
   "execution_count": 70,
   "id": "9c991479-4baf-4a20-8354-6c8ce25a46ff",
   "metadata": {},
   "outputs": [
    {
     "name": "stdout",
     "output_type": "stream",
     "text": [
      "I'm from Entri\n"
     ]
    }
   ],
   "source": [
    "print('I\\'m from Entri.\\b')\n"
   ]
  },
  {
   "cell_type": "code",
   "execution_count": 72,
   "id": "b619d67b-82ed-4419-9b91-806d877542f3",
   "metadata": {},
   "outputs": [
    {
     "name": "stdout",
     "output_type": "stream",
     "text": [
      "5\n"
     ]
    }
   ],
   "source": [
    "print(\"\\65\")"
   ]
  },
  {
   "cell_type": "code",
   "execution_count": 74,
   "id": "5dc982ed-3bea-4aac-a28a-d72d2cd457ff",
   "metadata": {},
   "outputs": [
    {
     "name": "stdout",
     "output_type": "stream",
     "text": [
      "e\n"
     ]
    }
   ],
   "source": [
    "print(\"\\x65\")"
   ]
  },
  {
   "cell_type": "code",
   "execution_count": 82,
   "id": "6452742d-6bc3-4fb2-b2c6-337c7d5f40bb",
   "metadata": {},
   "outputs": [
    {
     "name": "stdout",
     "output_type": "stream",
     "text": [
      "Entri\n",
      "2023\n"
     ]
    }
   ],
   "source": [
    "print(\"Entri\", \"2023\", sep=\"\\n\")"
   ]
  },
  {
   "cell_type": "code",
   "execution_count": 84,
   "id": "3c834e1a-70c3-4d71-ba6d-7ba7938411ca",
   "metadata": {},
   "outputs": [
    {
     "name": "stdout",
     "output_type": "stream",
     "text": [
      "Entr2023\n"
     ]
    }
   ],
   "source": [
    "print(\"Entri\", \"2023\", sep=\"\\b\")"
   ]
  },
  {
   "cell_type": "code",
   "execution_count": 86,
   "id": "da728a44-29f0-4c11-893b-db02aec8282c",
   "metadata": {},
   "outputs": [
    {
     "name": "stdout",
     "output_type": "stream",
     "text": [
      "Entri*20"
     ]
    }
   ],
   "source": [
    "print(\"Entri\", \"2023\", sep=\"*\", end=\"\\b\\b\\b\\b\")"
   ]
  },
  {
   "cell_type": "markdown",
   "id": "303810da-8559-45aa-bf33-3ce45c4e9ec7",
   "metadata": {},
   "source": [
    "# Define the variables below. Print the types of each variable. What is the sum of your variables? \n",
    "num=23\n",
    "textnum=\"57\"\n",
    "decimal=98.3\n"
   ]
  },
  {
   "cell_type": "code",
   "execution_count": 96,
   "id": "fcbce5cc-c3b7-4619-b7b8-9bad050b3a89",
   "metadata": {},
   "outputs": [
    {
     "data": {
      "text/plain": [
       "int"
      ]
     },
     "execution_count": 96,
     "metadata": {},
     "output_type": "execute_result"
    }
   ],
   "source": [
    "type(23)\n"
   ]
  },
  {
   "cell_type": "code",
   "execution_count": 98,
   "id": "bec421f7-22b7-4dbd-92f7-b6d3069e6759",
   "metadata": {},
   "outputs": [
    {
     "data": {
      "text/plain": [
       "str"
      ]
     },
     "execution_count": 98,
     "metadata": {},
     "output_type": "execute_result"
    }
   ],
   "source": [
    "type(\"57\")"
   ]
  },
  {
   "cell_type": "code",
   "execution_count": 100,
   "id": "9ed80f2a-b952-4258-9010-5adc0f50c802",
   "metadata": {},
   "outputs": [
    {
     "data": {
      "text/plain": [
       "float"
      ]
     },
     "execution_count": 100,
     "metadata": {},
     "output_type": "execute_result"
    }
   ],
   "source": [
    "type(98.3)"
   ]
  },
  {
   "cell_type": "code",
   "execution_count": 106,
   "id": "66ed999c-7485-415a-8b54-ead622c2f6e6",
   "metadata": {},
   "outputs": [
    {
     "name": "stdout",
     "output_type": "stream",
     "text": [
      "Type of 23: <class 'int'>\n",
      "Type of \"57\": <class 'str'>\n",
      "Type of 98.3: <class 'float'>\n"
     ]
    }
   ],
   "source": [
    "# Print the types of each variable\n",
    "x = 23\n",
    "y = \"57\"\n",
    "z = 98.3\n",
    "\n",
    "print(\"Type of 23:\", type(x))\n",
    "print('Type of \"57\":', type(y))\n",
    "print(\"Type of 98.3:\", type(z))\n"
   ]
  },
  {
   "cell_type": "code",
   "execution_count": 118,
   "id": "2a6e6fec-f6db-492f-b99e-cef5a1dcdd06",
   "metadata": {},
   "outputs": [
    {
     "name": "stdout",
     "output_type": "stream",
     "text": [
      "sum of varibles: 178.3\n"
     ]
    }
   ],
   "source": [
    "# Calculate the sum\n",
    "# Convert the string textnum to an integer for addition\n",
    "y_converted = int(y)\n",
    "total_sum = x + y_converted + z\n",
    "print(\"sum of varibles:\",total_sum)"
   ]
  },
  {
   "cell_type": "code",
   "execution_count": 120,
   "id": "70c96d31-2ada-45bb-807d-df49fe038120",
   "metadata": {},
   "outputs": [
    {
     "name": "stdout",
     "output_type": "stream",
     "text": [
      "Type of sum: <class 'float'>\n"
     ]
    }
   ],
   "source": [
    "# data type of sum\n",
    "print(\"Type of sum:\", type(total_sum))"
   ]
  },
  {
   "cell_type": "markdown",
   "id": "71ba9fd2-4701-4cee-a3cb-90ec16da3160",
   "metadata": {},
   "source": [
    "#calculate the number of minutes in a year using variables for each unit of time. print a statement that describes what your code does also. Create three variables to store no of days in a year, minute in a hour, hours in a day, then calculate the total minutes in a year and print the values\n",
    "(hint) total number of minutes in an year =No.of days in an year * Hours in a day * Minutes in an hour\n"
   ]
  },
  {
   "cell_type": "code",
   "execution_count": 132,
   "id": "713fab11-d5fc-460c-b22f-cd2f9b3db182",
   "metadata": {},
   "outputs": [
    {
     "name": "stdout",
     "output_type": "stream",
     "text": [
      "This code calculates the total number of minutes in a year.\n",
      "Days in a year: 365\n",
      "Hours in a day: 24\n",
      "Minutes in an hour: 60\n",
      "Total minutes in a year= days_in_year * hours_in_day * minutes_in_hour 525600\n"
     ]
    }
   ],
   "source": [
    "#calculate the number of minutes in a year\n",
    "# Define variables for units of time\n",
    "days_in_year = 365          # Number of days in a year (non-leap year)\n",
    "hours_in_day = 24           # Number of hours in a day\n",
    "minutes_in_hour = 60        # Number of minutes in an hour\n",
    "\n",
    "# Calculate the total number of minutes in a year\n",
    "total_minutes_in_year = days_in_year * hours_in_day * minutes_in_hour\n",
    "\n",
    "# Print a statement describing what the code does\n",
    "print(\"This code calculates the total number of minutes in a year.\")\n",
    "print(\"Days in a year:\", days_in_year)\n",
    "print(\"Hours in a day:\", hours_in_day)\n",
    "print(\"Minutes in an hour:\", minutes_in_hour)\n",
    "print(\"Total minutes in a year= days_in_year * hours_in_day * minutes_in_hour\", total_minutes_in_year)"
   ]
  },
  {
   "cell_type": "code",
   "execution_count": 1,
   "id": "15b0c52b-3a27-49c0-877f-c8bbf9407049",
   "metadata": {},
   "outputs": [
    {
     "name": "stdin",
     "output_type": "stream",
     "text": [
      "Please enter your name:  John\n"
     ]
    },
    {
     "name": "stdout",
     "output_type": "stream",
     "text": [
      "Hi John, welcome to Python programming :)\n"
     ]
    }
   ],
   "source": [
    "# Ask the user to enter their name\n",
    "\n",
    "name = input(\"Please enter your name: \")\n",
    "print(f\"Hi {name}, welcome to Python programming :)\")"
   ]
  },
  {
   "cell_type": "code",
   "execution_count": null,
   "id": "46d21f16-e206-40b6-91fc-3ece08ea486a",
   "metadata": {},
   "outputs": [],
   "source": []
  },
  {
   "cell_type": "code",
   "execution_count": null,
   "id": "de0d59a1-5b8a-4b42-8e7e-b1ae95aefe18",
   "metadata": {},
   "outputs": [],
   "source": []
  }
 ],
 "metadata": {
  "kernelspec": {
   "display_name": "Python [conda env:base] *",
   "language": "python",
   "name": "conda-base-py"
  },
  "language_info": {
   "codemirror_mode": {
    "name": "ipython",
    "version": 3
   },
   "file_extension": ".py",
   "mimetype": "text/x-python",
   "name": "python",
   "nbconvert_exporter": "python",
   "pygments_lexer": "ipython3",
   "version": "3.12.7"
  }
 },
 "nbformat": 4,
 "nbformat_minor": 5
}
